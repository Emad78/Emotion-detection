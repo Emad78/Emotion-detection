{
 "cells": [
  {
   "cell_type": "code",
   "execution_count": 8,
   "metadata": {},
   "outputs": [],
   "source": [
    "import pandas as pd\n",
    "from preprocessing import Preprocessing"
   ]
  },
  {
   "cell_type": "code",
   "execution_count": 9,
   "metadata": {},
   "outputs": [
    {
     "data": {
      "text/html": [
       "<div>\n",
       "<style scoped>\n",
       "    .dataframe tbody tr th:only-of-type {\n",
       "        vertical-align: middle;\n",
       "    }\n",
       "\n",
       "    .dataframe tbody tr th {\n",
       "        vertical-align: top;\n",
       "    }\n",
       "\n",
       "    .dataframe thead th {\n",
       "        text-align: right;\n",
       "    }\n",
       "</style>\n",
       "<table border=\"1\" class=\"dataframe\">\n",
       "  <thead>\n",
       "    <tr style=\"text-align: right;\">\n",
       "      <th></th>\n",
       "      <th>text</th>\n",
       "      <th>label</th>\n",
       "    </tr>\n",
       "  </thead>\n",
       "  <tbody>\n",
       "    <tr>\n",
       "      <th>0</th>\n",
       "      <td>کرونا رو شکست میدهیم؟\\r\\nمرحله بعد چه گوهی میخ...</td>\n",
       "      <td>ANGRY</td>\n",
       "    </tr>\n",
       "    <tr>\n",
       "      <th>1</th>\n",
       "      <td>اگر در چند ماه اخیر تصمیم داشته اید وارد بورس ...</td>\n",
       "      <td>FEAR</td>\n",
       "    </tr>\n",
       "    <tr>\n",
       "      <th>2</th>\n",
       "      <td>یکی از پدرسوختگی های #برانداز اینه که ظاهرا ژس...</td>\n",
       "      <td>ANGRY</td>\n",
       "    </tr>\n",
       "    <tr>\n",
       "      <th>3</th>\n",
       "      <td>@username اینقدر گرفتار مسایل میشی که تخصص از ...</td>\n",
       "      <td>SURPRISE</td>\n",
       "    </tr>\n",
       "    <tr>\n",
       "      <th>4</th>\n",
       "      <td>شماهایی که توییتها رو میبینید و سکوت میکنید ش...</td>\n",
       "      <td>HATE</td>\n",
       "    </tr>\n",
       "  </tbody>\n",
       "</table>\n",
       "</div>"
      ],
      "text/plain": [
       "                                                text     label\n",
       "0  کرونا رو شکست میدهیم؟\\r\\nمرحله بعد چه گوهی میخ...     ANGRY\n",
       "1  اگر در چند ماه اخیر تصمیم داشته اید وارد بورس ...      FEAR\n",
       "2  یکی از پدرسوختگی های #برانداز اینه که ظاهرا ژس...     ANGRY\n",
       "3  @username اینقدر گرفتار مسایل میشی که تخصص از ...  SURPRISE\n",
       "4   شماهایی که توییتها رو میبینید و سکوت میکنید ش...      HATE"
      ]
     },
     "execution_count": 9,
     "metadata": {},
     "output_type": "execute_result"
    }
   ],
   "source": [
    "data = pd.read_csv('data/labeledData.csv')\n",
    "data.head()"
   ]
  },
  {
   "cell_type": "code",
   "execution_count": 10,
   "metadata": {},
   "outputs": [],
   "source": [
    "p = Preprocessing()\n",
    "data['new_text'] = data['text'].apply(p.normalize)\n",
    "data['new_text'] = data['text'].apply(p.remove_url)\n",
    "data['new_text'] = data['new_text'].apply(p.remove_emojis)\n",
    "data['new_text'] = data['new_text'].apply(p.remove_hashtags)\n",
    "data['new_text'] = data['new_text'].apply(p.remove_mentions)\n",
    "data['new_text'] = data['new_text'].apply(p.remove_english_words)"
   ]
  },
  {
   "cell_type": "code",
   "execution_count": 11,
   "metadata": {},
   "outputs": [],
   "source": [
    "data['words'] = data['new_text'].apply(p.find_text_words)\n",
    "data['words'] = data['words'].apply(p.remove_stop_words)\n",
    "data['words'] = data['words'].apply(p.remove_punctuations)"
   ]
  },
  {
   "cell_type": "code",
   "execution_count": 12,
   "metadata": {},
   "outputs": [
    {
     "data": {
      "text/html": [
       "<div>\n",
       "<style scoped>\n",
       "    .dataframe tbody tr th:only-of-type {\n",
       "        vertical-align: middle;\n",
       "    }\n",
       "\n",
       "    .dataframe tbody tr th {\n",
       "        vertical-align: top;\n",
       "    }\n",
       "\n",
       "    .dataframe thead th {\n",
       "        text-align: right;\n",
       "    }\n",
       "</style>\n",
       "<table border=\"1\" class=\"dataframe\">\n",
       "  <thead>\n",
       "    <tr style=\"text-align: right;\">\n",
       "      <th></th>\n",
       "      <th>label</th>\n",
       "      <th>text</th>\n",
       "      <th>words</th>\n",
       "    </tr>\n",
       "  </thead>\n",
       "  <tbody>\n",
       "    <tr>\n",
       "      <th>0</th>\n",
       "      <td>ANGRY</td>\n",
       "      <td>کرونا رو شکست میدهیم؟\\r\\nمرحله بعد چه گوهی میخ...</td>\n",
       "      <td>[کرونا, شکست, میدهیم, مرحله, گوهی, میخوای, بخوری]</td>\n",
       "    </tr>\n",
       "    <tr>\n",
       "      <th>1</th>\n",
       "      <td>FEAR</td>\n",
       "      <td>اگر در چند ماه اخیر تصمیم داشته اید وارد بورس ...</td>\n",
       "      <td>[ماه, تصمیم, اید, بورس, شوید, دلیلی, تاخیر, اف...</td>\n",
       "    </tr>\n",
       "    <tr>\n",
       "      <th>2</th>\n",
       "      <td>ANGRY</td>\n",
       "      <td>یکی از پدرسوختگی های  اینه که ظاهرا ژست  دارند...</td>\n",
       "      <td>[پدرسوختگی, های, اینه, ظاهرا, ژست, سرنگونی, نظ...</td>\n",
       "    </tr>\n",
       "    <tr>\n",
       "      <th>3</th>\n",
       "      <td>SURPRISE</td>\n",
       "      <td>اینقدر گرفتار مسایل میشی که تخصص از دستت درد ...</td>\n",
       "      <td>[اینقدر, گرفتار, مسایل, میشی, تخصص, دستت, درد,...</td>\n",
       "    </tr>\n",
       "    <tr>\n",
       "      <th>4</th>\n",
       "      <td>HATE</td>\n",
       "      <td>شماهایی که توییتها رو میبینید و سکوت میکنید ش...</td>\n",
       "      <td>[شماهایی, توییتها, میبینید, سکوت, میکنید, تماش...</td>\n",
       "    </tr>\n",
       "  </tbody>\n",
       "</table>\n",
       "</div>"
      ],
      "text/plain": [
       "      label                                               text  \\\n",
       "0     ANGRY  کرونا رو شکست میدهیم؟\\r\\nمرحله بعد چه گوهی میخ...   \n",
       "1      FEAR  اگر در چند ماه اخیر تصمیم داشته اید وارد بورس ...   \n",
       "2     ANGRY  یکی از پدرسوختگی های  اینه که ظاهرا ژست  دارند...   \n",
       "3  SURPRISE   اینقدر گرفتار مسایل میشی که تخصص از دستت درد ...   \n",
       "4      HATE   شماهایی که توییتها رو میبینید و سکوت میکنید ش...   \n",
       "\n",
       "                                               words  \n",
       "0  [کرونا, شکست, میدهیم, مرحله, گوهی, میخوای, بخوری]  \n",
       "1  [ماه, تصمیم, اید, بورس, شوید, دلیلی, تاخیر, اف...  \n",
       "2  [پدرسوختگی, های, اینه, ظاهرا, ژست, سرنگونی, نظ...  \n",
       "3  [اینقدر, گرفتار, مسایل, میشی, تخصص, دستت, درد,...  \n",
       "4  [شماهایی, توییتها, میبینید, سکوت, میکنید, تماش...  "
      ]
     },
     "execution_count": 12,
     "metadata": {},
     "output_type": "execute_result"
    }
   ],
   "source": [
    "data.drop(columns=['text'], inplace=True)\n",
    "data.columns = ['label', 'text', 'words']\n",
    "data.head()"
   ]
  },
  {
   "cell_type": "code",
   "execution_count": 13,
   "metadata": {},
   "outputs": [],
   "source": [
    "data.to_csv('data/cleanLabeledData.csv')"
   ]
  }
 ],
 "metadata": {
  "kernelspec": {
   "display_name": "Python 3",
   "language": "python",
   "name": "python3"
  },
  "language_info": {
   "codemirror_mode": {
    "name": "ipython",
    "version": 3
   },
   "file_extension": ".py",
   "mimetype": "text/x-python",
   "name": "python",
   "nbconvert_exporter": "python",
   "pygments_lexer": "ipython3",
   "version": "3.10.5"
  },
  "vscode": {
   "interpreter": {
    "hash": "876db7d3f8682b7e4c5477e5f1e2dc2bd1b19fe05d9aabd59218369070754b39"
   }
  }
 },
 "nbformat": 4,
 "nbformat_minor": 2
}
