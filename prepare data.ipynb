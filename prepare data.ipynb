{
 "cells": [
  {
   "cell_type": "code",
   "execution_count": 20,
   "metadata": {},
   "outputs": [],
   "source": [
    "import pandas as pd"
   ]
  },
  {
   "cell_type": "code",
   "execution_count": 21,
   "metadata": {},
   "outputs": [],
   "source": [
    "df = pd.read_csv('data/basic/armanTrain.tsv', sep='\\t')\n",
    "df1 = pd.read_csv('data/basic/armanTest.tsv', sep='\\t')\n",
    "df1 = pd.concat([df, df1])\n",
    "df1 = df1.drop_duplicates()"
   ]
  },
  {
   "cell_type": "code",
   "execution_count": 22,
   "metadata": {},
   "outputs": [],
   "source": [
    "df = pd.read_csv('data/basic/EmoPars.csv')\n",
    "df = df.drop_duplicates()\n"
   ]
  },
  {
   "cell_type": "code",
   "execution_count": 23,
   "metadata": {},
   "outputs": [],
   "source": [
    "new_df = df.drop(columns=['text'])\n",
    "df['max'] = new_df.max(axis=1)\n",
    "df['label'] = new_df.idxmax(axis=1)\n",
    "df.loc[df['max'] < 3, 'label'] = \"OTHER\"\n",
    "df['label'].replace({'Sadness':'SAD', 'Hatred':'HATE', 'Fear':'FEAR', 'Anger':'ANGRY', 'Happiness':'HAPPY', 'Wonder':'SURPRISE'}, inplace=True)\n",
    "new_df = df[['text', 'label']].reset_index(drop=True)"
   ]
  },
  {
   "cell_type": "code",
   "execution_count": 24,
   "metadata": {},
   "outputs": [],
   "source": [
    "final_df = pd.concat([new_df, df1])\n",
    "final_df = final_df[final_df['label'] != 'OTHER']\n",
    "final_df.to_csv('data/labeledData.csv', index=False)"
   ]
  }
 ],
 "metadata": {
  "kernelspec": {
   "display_name": "Python 3",
   "language": "python",
   "name": "python3"
  },
  "language_info": {
   "codemirror_mode": {
    "name": "ipython",
    "version": 3
   },
   "file_extension": ".py",
   "mimetype": "text/x-python",
   "name": "python",
   "nbconvert_exporter": "python",
   "pygments_lexer": "ipython3",
   "version": "3.10.5 (tags/v3.10.5:f377153, Jun  6 2022, 16:14:13) [MSC v.1929 64 bit (AMD64)]"
  },
  "vscode": {
   "interpreter": {
    "hash": "876db7d3f8682b7e4c5477e5f1e2dc2bd1b19fe05d9aabd59218369070754b39"
   }
  }
 },
 "nbformat": 4,
 "nbformat_minor": 2
}
